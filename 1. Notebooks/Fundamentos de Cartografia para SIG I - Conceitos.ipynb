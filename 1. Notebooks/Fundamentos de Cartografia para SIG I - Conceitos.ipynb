{
 "cells": [
  {
   "cell_type": "markdown",
   "metadata": {},
   "source": [
    "# Fundamentos de Cartografia para SIG I - Conceitos\n",
    "\n",
    "Para iniciarmos qualquer tratamento de dados geoespaciais, há cuidados fundamentais com a base cartográfica que devem ser incorporados no framework para garantir a qualidade das informações. Esses cuidados são baseados em geomática e geoestatística. Sabemos que a <b>cartografia <em>\"preocupa-se em apresentar um modelo de representação de dados para os processos que ocorrem no espaço geográfico\" (geomatica/UERJ)</em></b> e por isso é importante termos esses conceitos básicos incorporados na rotina de geoprocessamento. \n",
    "\n",
    "Nesse notebook vamos passar por alguns conceitos básicos necessários para preparação do projeto (trabalho que será executado e resultará num produto) e os comandos dentro do python.\n",
    "\n",
    "1. [Conceitos básicos de cartografia](#Conceitos-básicos-de-cartografia)\n",
    "2. [Sistema de Informação Geográfica (SIG/GIS)](#Sistema-de-Informação-Geográfica-(SIG/GIS))\n",
    "3. [Dados espaciais](#Dados-espaciais) \n",
    "4. [Projeções cartográficas](#Projeções-cartográficas) \n",
    "5. [Sistemas de coordenadas](#Sistemas-de-coordenadas) \n",
    "6. [Modelos de representação da terra - Datum](#Modelos-de-representação-da-terra-Datum) \n",
    "7. [Sistema de referência de coordenadas](#Sistema-de-referência-de-coordenadas)"
   ]
  },
  {
   "cell_type": "code",
   "execution_count": 2,
   "metadata": {},
   "outputs": [],
   "source": [
    "# importando bibliotecas\n",
    "import pandas as pd\n",
    "import geopandas\n",
    "import IPython.display as display\n",
    "from shapely.geometry import Point, Polygon, LineString\n",
    "\n",
    "%matplotlib inline"
   ]
  },
  {
   "cell_type": "markdown",
   "metadata": {},
   "source": [
    "---\n",
    "## Conceitos básicos de cartografia\n",
    "\n",
    "\n",
    "---\n",
    "\n",
    "**Cartografia** \n",
    "\n",
    "- <b><em>Conceito melhor aceito</b></em>: Associação Cartogr Cartográfica Internacional Internacional – ACI (1966) ACI (1966)\n",
    "    - <em>“Conjunto de estudos e operações científicas, técnicas e artísticas que, tendo por base o resultado de observações diretas ou da análise da documentação, se voltam para a elaboração de mapas, cartas e outras formas de expressão e representação de objetos, fenômenos e ambientes físicos e sócio-econômicos, bem como sua utilização.”</em>[Conceitos de cartografia/INPE](http://www.dsr.inpe.br/vcsr/files/Apres_Cartografia.pdf)\n",
    "\n",
    "**Cartografia sistemática ou de base**\n",
    "\n",
    "-  <em>\"Pode ser entendida como a atividade voltada para a representação do espaço com seus atributos dimensionais e de localização absoluta, através da execução de mapeamentos básicos a partir de levantamentos que podem ser topográficos, Aerofotogramétricos ou apoiados em imagens de satélites.\" </em>[A Cartografia: bases conceituais/UERB](http://www.ead.uepb.edu.br/ava/arquivos/cursos/geografia/leituras_cartograficas/Le_Ca_A02_B_WEB.pdf) \n",
    "\n",
    "**Tipos de Representação cartográfica**\n",
    "\n",
    "- **Globo** (representação esférica)\n",
    "- **Mapa** (representação plana)\n",
    "    - pequena e média escala\n",
    "- **Carta** (representação plana)\n",
    "    - média e grande escala\n",
    "    - mais detalhes\n",
    "    - dividia em folhas \n",
    "- **Planta** (representação plana)\n",
    "    - grande escala (maior que 1:1.000)\n",
    "- **Cartografia digital**\n",
    "    - Software gis, geoweb"
   ]
  },
  {
   "cell_type": "markdown",
   "metadata": {},
   "source": [
    "---\n",
    "### Elementos fundamentais de um mapa\n",
    "\n",
    "---\n",
    "### O que diferencia um mapa de outras representações gráficas?\n",
    "\n",
    "- **Título, orientação (rodas dos ventos), grade de coordenadas, legenda (convenções cartográficas), escala, fonte.**\n",
    "\n",
    "- Legenda: também chamada de Convenções cartográficas por causa dos simbolos que são comumente adotados.\n",
    "- Escala pode ser gráfica, númerica, nominal\n",
    "\n",
    "- Fonte: metadados, autoria do mapa, ano, fontes de origem"
   ]
  },
  {
   "cell_type": "code",
   "execution_count": 9,
   "metadata": {
    "collapsed": true
   },
   "outputs": [
    {
     "data": {
      "text/html": [
       "\n",
       "        <iframe\n",
       "            width=\"700\"\n",
       "            height=\"600\"\n",
       "            src=\"https://i.pinimg.com/originals/ce/37/4f/ce374f6cb4922c07409f8f99a60c3aea.gif\"\n",
       "            frameborder=\"0\"\n",
       "            allowfullscreen\n",
       "        ></iframe>\n",
       "        "
      ],
      "text/plain": [
       "<IPython.lib.display.IFrame at 0x7fe28324dbe0>"
      ]
     },
     "execution_count": 9,
     "metadata": {},
     "output_type": "execute_result"
    }
   ],
   "source": [
    "# GLOBO\n",
    "display.IFrame('https://i.pinimg.com/originals/ce/37/4f/ce374f6cb4922c07409f8f99a60c3aea.gif', \n",
    "              700, 600)"
   ]
  },
  {
   "cell_type": "code",
   "execution_count": 16,
   "metadata": {
    "collapsed": true
   },
   "outputs": [
    {
     "data": {
      "text/html": [
       "\n",
       "        <iframe\n",
       "            width=\"700\"\n",
       "            height=\"360\"\n",
       "            src=\"https://images-na.ssl-images-amazon.com/images/I/71YQ-46%2B4UL._AC_SY355_.jpg\"\n",
       "            frameborder=\"0\"\n",
       "            allowfullscreen\n",
       "        ></iframe>\n",
       "        "
      ],
      "text/plain": [
       "<IPython.lib.display.IFrame at 0x7fe2853a7490>"
      ]
     },
     "execution_count": 16,
     "metadata": {},
     "output_type": "execute_result"
    }
   ],
   "source": [
    "display.IFrame('https://images-na.ssl-images-amazon.com/images/I/71YQ-46%2B4UL._AC_SY355_.jpg', \n",
    "              700, 360)"
   ]
  },
  {
   "cell_type": "code",
   "execution_count": 30,
   "metadata": {
    "collapsed": true
   },
   "outputs": [
    {
     "data": {
      "text/html": [
       "\n",
       "        <iframe\n",
       "            width=\"900\"\n",
       "            height=\"630\"\n",
       "            src=\"https://flaviafeitosa.files.wordpress.com/2020/07/vinicius_cartgeo.jpg?w=958\"\n",
       "            frameborder=\"0\"\n",
       "            allowfullscreen\n",
       "        ></iframe>\n",
       "        "
      ],
      "text/plain": [
       "<IPython.lib.display.IFrame at 0x7fe2853a7b50>"
      ]
     },
     "execution_count": 30,
     "metadata": {},
     "output_type": "execute_result"
    }
   ],
   "source": [
    "# MAPA\n",
    "display.IFrame('https://flaviafeitosa.files.wordpress.com/2020/07/vinicius_cartgeo.jpg?w=958', \n",
    "              900, 630)"
   ]
  },
  {
   "cell_type": "code",
   "execution_count": 31,
   "metadata": {
    "collapsed": true
   },
   "outputs": [
    {
     "data": {
      "text/html": [
       "\n",
       "        <iframe\n",
       "            width=\"900\"\n",
       "            height=\"630\"\n",
       "            src=\"https://www.researchgate.net/profile/Jose_Kullberg/publication/277710627/figure/fig1/AS:294245433921541@1447164986797/Extracto-da-carta-geologica-de-Portugal-a-escala-1-50-000-folha-38-B-Setubal-LNEG-do.png\"\n",
       "            frameborder=\"0\"\n",
       "            allowfullscreen\n",
       "        ></iframe>\n",
       "        "
      ],
      "text/plain": [
       "<IPython.lib.display.IFrame at 0x7fe2853a7790>"
      ]
     },
     "execution_count": 31,
     "metadata": {},
     "output_type": "execute_result"
    }
   ],
   "source": [
    "# Carta\n",
    "display.IFrame('https://www.researchgate.net/profile/Jose_Kullberg/publication/277710627/figure/fig1/AS:294245433921541@1447164986797/Extracto-da-carta-geologica-de-Portugal-a-escala-1-50-000-folha-38-B-Setubal-LNEG-do.png', \n",
    "              900, 630)"
   ]
  },
  {
   "cell_type": "code",
   "execution_count": 33,
   "metadata": {
    "collapsed": true
   },
   "outputs": [
    {
     "data": {
      "text/html": [
       "\n",
       "        <iframe\n",
       "            width=\"900\"\n",
       "            height=\"630\"\n",
       "            src=\"https://www.todoestudo.com.br/wp-content/uploads/2016/08/carta-cartografica.jpg\"\n",
       "            frameborder=\"0\"\n",
       "            allowfullscreen\n",
       "        ></iframe>\n",
       "        "
      ],
      "text/plain": [
       "<IPython.lib.display.IFrame at 0x7fe2853a79a0>"
      ]
     },
     "execution_count": 33,
     "metadata": {},
     "output_type": "execute_result"
    }
   ],
   "source": [
    "# Carta\n",
    "display.IFrame('https://www.todoestudo.com.br/wp-content/uploads/2016/08/carta-cartografica.jpg', \n",
    "              900, 630)"
   ]
  },
  {
   "cell_type": "code",
   "execution_count": 34,
   "metadata": {
    "collapsed": true
   },
   "outputs": [
    {
     "data": {
      "text/html": [
       "\n",
       "        <iframe\n",
       "            width=\"900\"\n",
       "            height=\"630\"\n",
       "            src=\"https://upload.wikimedia.org/wikipedia/commons/9/95/DallasMunicipalCenterPlan1946.jpg\"\n",
       "            frameborder=\"0\"\n",
       "            allowfullscreen\n",
       "        ></iframe>\n",
       "        "
      ],
      "text/plain": [
       "<IPython.lib.display.IFrame at 0x7fe2853a7700>"
      ]
     },
     "execution_count": 34,
     "metadata": {},
     "output_type": "execute_result"
    }
   ],
   "source": [
    "# Planta\n",
    "display.IFrame('https://upload.wikimedia.org/wikipedia/commons/9/95/DallasMunicipalCenterPlan1946.jpg', \n",
    "              900, 630)"
   ]
  },
  {
   "cell_type": "code",
   "execution_count": 39,
   "metadata": {
    "collapsed": true
   },
   "outputs": [
    {
     "data": {
      "text/html": [
       "\n",
       "        <iframe\n",
       "            width=\"700\"\n",
       "            height=\"500\"\n",
       "            src=\"https://www.qgis.org/en/_static/images/about-screenshot.png\"\n",
       "            frameborder=\"0\"\n",
       "            allowfullscreen\n",
       "        ></iframe>\n",
       "        "
      ],
      "text/plain": [
       "<IPython.lib.display.IFrame at 0x7fe2853bd070>"
      ]
     },
     "execution_count": 39,
     "metadata": {},
     "output_type": "execute_result"
    }
   ],
   "source": [
    "# Cartografia Digital\n",
    "display.IFrame('https://www.qgis.org/en/_static/images/about-screenshot.png', \n",
    "              700, 500)"
   ]
  },
  {
   "cell_type": "markdown",
   "metadata": {},
   "source": [
    "# Sistema de Informação Geográfica (SIG/GIS)\n",
    "\n",
    "-- Sistema composto por dados, hardware, pessoas, métodos e software\n",
    "\n",
    "\"Disciplina do conhecimento que utiliza técnicas matemáticas e computacionais para o tratamento da informação geográfica\"\"\n",
    "\n",
    "Geoprocessamento: Processamento de dados espaciais > SIG > Informação espacial\n",
    "\n",
    "--> **Se onde é importante para seu negócio, então Geoprocessamento é sua ferramenta de trabalho**"
   ]
  },
  {
   "cell_type": "markdown",
   "metadata": {},
   "source": [
    "# Dados espaciais\n",
    "\n",
    "Dados espaciais\n",
    "\n",
    "Dados são registro de fenômenos que não passaram por tratamento.\n",
    "Os dados (geo) espaciais possuem uma localização na superfície terrestre.\n",
    "\n",
    "Dados vetoriais\n",
    "Dados matriciais ou raster\n",
    "Dados de atributo/alfanuméricos\n",
    "\n",
    "vantagens e desvantagens de dados vetoriais e matriciais\n",
    "\n",
    "Dados de atributo: são representados por códigos textuais, numéricos ou símbolos armazenados em tabelas, vinculados às feições gráficas que possuem refência espacial."
   ]
  },
  {
   "cell_type": "markdown",
   "metadata": {},
   "source": [
    "# Projeções cartográficas\n",
    "\n",
    "Projeções cartográficas\n",
    "\n",
    "- Como transformar uma superfície curva (superfície terrestre) em um plano?\n",
    "- Como representar esses dados em um SIG de maneira a se aproximar da realidade?\n",
    "\n",
    "- Objetivo da projeção: representar a superfície da terra em um papel ou tela de computador\n",
    "- Todas as projeções causam distorções\n",
    "- Tabela classificação das projeções\n"
   ]
  },
  {
   "cell_type": "markdown",
   "metadata": {},
   "source": [
    "# Sistemas de coordenadas\n",
    "\n",
    "Sistemas de coordenadas\n",
    "\n",
    "- Cartesianas, plano-retangulares (projetadas) e geodésicas\n"
   ]
  },
  {
   "cell_type": "markdown",
   "metadata": {},
   "source": [
    "# Modelos de representação da terra - Datum\n",
    "\n",
    "Modelos de Representação da Terra\n",
    "\n",
    "- Geóide\n",
    "- Modelo Elipsóide (GRS80 no brasil)\n",
    "- Datum:\n",
    "    - Data planimétrico ou geodésico (horizontal)\n",
    "        - é um ponto de origem para a refeência das coordenadas a nível local ou global\n",
    "    - Data altimétrico\n",
    "        - superfície de referência a partir da qual são calculadas todas as altitudes de uma área.\n",
    "(colocar imagem datum)\n",
    "\n",
    "Os Datum oficiais do Brasil atualmente:\n",
    "    \n",
    "Datum planimétrico: SIRGAS 2000, desde 2015\n",
    "Datum altimétrico: Marégrafo de Imbituba/SC, desde 1958\n",
    "    \n",
    "Antigos Datum\n",
    "\n",
    "Córrego Alegre\n",
    "Astro Datum Chuá\n",
    "SAD 69 (South American Datum)\n",
    "SAD 69 (1996)\n",
    "\n",
    "Porque usar o Datum de referencia? \n",
    "- deslocamento das coordenadas no plano\n",
    "- usar o mesmo data para toda a base cartográfica do projeto no SIG\n",
    "\n",
    "WGS 84\n",
    "\n"
   ]
  },
  {
   "cell_type": "markdown",
   "metadata": {},
   "source": [
    "# Sistema de referência de coordenadas\n",
    "Sistema de Referência de Cooderdenadas (SRC)\n",
    "\n",
    "- Sistema de coordenadas geográficas + datum\n",
    "- Sistema de coordenadas planas + projeção específica + datum\n",
    "\n",
    "- Sistema de coordenadas planas UTM \n",
    "(exemplo: São Paulo ())"
   ]
  },
  {
   "cell_type": "code",
   "execution_count": null,
   "metadata": {},
   "outputs": [],
   "source": []
  },
  {
   "cell_type": "code",
   "execution_count": null,
   "metadata": {},
   "outputs": [],
   "source": []
  },
  {
   "cell_type": "code",
   "execution_count": null,
   "metadata": {},
   "outputs": [],
   "source": []
  },
  {
   "cell_type": "code",
   "execution_count": null,
   "metadata": {},
   "outputs": [],
   "source": []
  },
  {
   "cell_type": "code",
   "execution_count": null,
   "metadata": {},
   "outputs": [],
   "source": []
  },
  {
   "cell_type": "code",
   "execution_count": null,
   "metadata": {},
   "outputs": [],
   "source": []
  },
  {
   "cell_type": "code",
   "execution_count": null,
   "metadata": {},
   "outputs": [],
   "source": []
  }
 ],
 "metadata": {
  "kernelspec": {
   "display_name": "Python 3",
   "language": "python",
   "name": "python3"
  },
  "language_info": {
   "codemirror_mode": {
    "name": "ipython",
    "version": 3
   },
   "file_extension": ".py",
   "mimetype": "text/x-python",
   "name": "python",
   "nbconvert_exporter": "python",
   "pygments_lexer": "ipython3",
   "version": "3.8.3"
  }
 },
 "nbformat": 4,
 "nbformat_minor": 4
}
